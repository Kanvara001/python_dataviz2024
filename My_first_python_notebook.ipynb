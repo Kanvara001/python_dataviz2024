{
  "nbformat": 4,
  "nbformat_minor": 0,
  "metadata": {
    "colab": {
      "provenance": [],
      "authorship_tag": "ABX9TyMqZZe30DfUhMxU0FFXlLiA",
      "include_colab_link": true
    },
    "kernelspec": {
      "name": "python3",
      "display_name": "Python 3"
    },
    "language_info": {
      "name": "python"
    }
  },
  "cells": [
    {
      "cell_type": "markdown",
      "metadata": {
        "id": "view-in-github",
        "colab_type": "text"
      },
      "source": [
        "<a href=\"https://colab.research.google.com/github/Kanvara001/python_dataviz2024/blob/main/My_first_python_notebook.ipynb\" target=\"_parent\"><img src=\"https://colab.research.google.com/assets/colab-badge.svg\" alt=\"Open In Colab\"/></a>"
      ]
    },
    {
      "cell_type": "markdown",
      "source": [
        "Basic Programming for Data science & Data Visualization\n",
        "\n",
        "here we use **Markdown**"
      ],
      "metadata": {
        "id": "1fnE1TjrRet2"
      }
    },
    {
      "cell_type": "code",
      "execution_count": 1,
      "metadata": {
        "colab": {
          "base_uri": "https://localhost:8080/"
        },
        "id": "4XWaUymrQyVG",
        "outputId": "9e92a238-022a-401c-810c-321f531287cb"
      },
      "outputs": [
        {
          "output_type": "stream",
          "name": "stdout",
          "text": [
            "Kanvara\n"
          ]
        }
      ],
      "source": [
        "print('Kanvara')"
      ]
    },
    {
      "cell_type": "code",
      "source": [
        "print('Thawarorit')"
      ],
      "metadata": {
        "colab": {
          "base_uri": "https://localhost:8080/"
        },
        "id": "AT1f18hxSqc8",
        "outputId": "d04f5f17-e79c-432f-f40d-4c5cedef873a"
      },
      "execution_count": 2,
      "outputs": [
        {
          "output_type": "stream",
          "name": "stdout",
          "text": [
            "Thawarorit\n"
          ]
        }
      ]
    }
  ]
}